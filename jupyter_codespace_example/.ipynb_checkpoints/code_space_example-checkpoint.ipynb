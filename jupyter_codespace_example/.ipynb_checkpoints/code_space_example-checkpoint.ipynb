{
 "cells": [
  {
   "cell_type": "code",
   "execution_count": 1,
   "id": "1e3d39b8-7b31-4ae2-bb71-8a45e676bcd1",
   "metadata": {
    "tags": []
   },
   "outputs": [],
   "source": [
    "import site"
   ]
  },
  {
   "cell_type": "code",
   "execution_count": 2,
   "id": "820c9a9d-2a8c-402e-ac58-38f2be3d2df0",
   "metadata": {
    "tags": []
   },
   "outputs": [
    {
     "data": {
      "text/plain": [
       "['/usr/local/python/3.10.4/lib/python3.10/site-packages']"
      ]
     },
     "execution_count": 2,
     "metadata": {},
     "output_type": "execute_result"
    }
   ],
   "source": [
    "site.getsitepackages()"
   ]
  },
  {
   "cell_type": "code",
   "execution_count": 3,
   "id": "9ca8d73f-bf7a-4e92-8d1d-af4339de21fd",
   "metadata": {
    "tags": []
   },
   "outputs": [],
   "source": [
    "s = 'python'"
   ]
  },
  {
   "cell_type": "code",
   "execution_count": null,
   "id": "1905c30b-6692-45a6-9596-3bbd63b8853d",
   "metadata": {},
   "outputs": [],
   "source": []
  }
 ],
 "metadata": {
  "kernelspec": {
   "display_name": "Python 3 (ipykernel)",
   "language": "python",
   "name": "python3"
  },
  "language_info": {
   "codemirror_mode": {
    "name": "ipython",
    "version": 3
   },
   "file_extension": ".py",
   "mimetype": "text/x-python",
   "name": "python",
   "nbconvert_exporter": "python",
   "pygments_lexer": "ipython3",
   "version": "3.10.4"
  }
 },
 "nbformat": 4,
 "nbformat_minor": 5
}

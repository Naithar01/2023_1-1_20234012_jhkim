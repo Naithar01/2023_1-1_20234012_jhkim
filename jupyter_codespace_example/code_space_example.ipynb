{
 "cells": [
  {
   "cell_type": "code",
   "execution_count": 7,
   "id": "1e3d39b8-7b31-4ae2-bb71-8a45e676bcd1",
   "metadata": {
    "tags": []
   },
   "outputs": [],
   "source": [
    "import site"
   ]
  },
  {
   "cell_type": "code",
   "execution_count": 8,
   "id": "820c9a9d-2a8c-402e-ac58-38f2be3d2df0",
   "metadata": {
    "tags": []
   },
   "outputs": [
    {
     "data": {
      "text/plain": [
       "['/home/codespace/.python/current/lib/python3.10/site-packages']"
      ]
     },
     "execution_count": 8,
     "metadata": {},
     "output_type": "execute_result"
    }
   ],
   "source": [
    "site.getsitepackages()"
   ]
  },
  {
   "cell_type": "code",
   "execution_count": 9,
   "id": "9ca8d73f-bf7a-4e92-8d1d-af4339de21fd",
   "metadata": {
    "tags": []
   },
   "outputs": [],
   "source": [
    "s = 'python'"
   ]
  },
  {
   "cell_type": "code",
   "execution_count": 10,
   "id": "1905c30b-6692-45a6-9596-3bbd63b8853d",
   "metadata": {
    "tags": []
   },
   "outputs": [
    {
     "data": {
      "text/plain": [
       "str"
      ]
     },
     "execution_count": 10,
     "metadata": {},
     "output_type": "execute_result"
    }
   ],
   "source": [
    "type(s)"
   ]
  },
  {
   "cell_type": "code",
   "execution_count": 11,
   "id": "8872f148-bf8a-4093-9806-96676e0d6cad",
   "metadata": {
    "tags": []
   },
   "outputs": [
    {
     "ename": "TypeError",
     "evalue": "str.capitalize() takes no arguments (1 given)",
     "output_type": "error",
     "traceback": [
      "\u001b[0;31m---------------------------------------------------------------------------\u001b[0m",
      "\u001b[0;31mTypeError\u001b[0m                                 Traceback (most recent call last)",
      "Cell \u001b[0;32mIn[11], line 1\u001b[0m\n\u001b[0;32m----> 1\u001b[0m \u001b[39mstr\u001b[39;49m\u001b[39m.\u001b[39;49mcapitalize(s) \u001b[39m# 첫 글자 대문자로 바꿔주는 str의 내장 함수 임 \u001b[39;00m\n",
      "\u001b[0;31mTypeError\u001b[0m: str.capitalize() takes no arguments (1 given)"
     ]
    }
   ],
   "source": [
    "str.capitalize(s) # 첫 글자 대문자로 바꿔주는 str의 내장 함수 임 "
   ]
  },
  {
   "cell_type": "code",
   "execution_count": null,
   "id": "38714d9b-fab8-4a74-bdd2-faa18e9ff8d8",
   "metadata": {
    "tags": []
   },
   "outputs": [],
   "source": [
    "s = 'python'"
   ]
  },
  {
   "cell_type": "code",
   "execution_count": null,
   "id": "795b4a44-716a-4ba2-8528-8466112fe431",
   "metadata": {
    "tags": []
   },
   "outputs": [],
   "source": [
    "# s[] 에러가 뜸 Why? 익데스를 써주지 않음"
   ]
  },
  {
   "cell_type": "code",
   "execution_count": null,
   "id": "3470c7a9-513c-4cf7-ade3-4ccde03b9568",
   "metadata": {
    "tags": []
   },
   "outputs": [
    {
     "data": {
      "text/plain": [
       "'nohtyp'"
      ]
     },
     "execution_count": 11,
     "metadata": {},
     "output_type": "execute_result"
    }
   ],
   "source": [
    "s[:: - 1] # 배열 뒤집기"
   ]
  },
  {
   "cell_type": "code",
   "execution_count": null,
   "id": "0bc557eb-009e-47af-bdf1-91b958d94fa4",
   "metadata": {
    "tags": []
   },
   "outputs": [
    {
     "ename": "IndexError",
     "evalue": "string index out of range",
     "output_type": "error",
     "traceback": [
      "\u001b[0;31m---------------------------------------------------------------------------\u001b[0m",
      "\u001b[0;31mIndexError\u001b[0m                                Traceback (most recent call last)",
      "Cell \u001b[0;32mIn[12], line 1\u001b[0m\n\u001b[0;32m----> 1\u001b[0m \u001b[43ms\u001b[49m\u001b[43m[\u001b[49m\u001b[38;5;241;43m6\u001b[39;49m\u001b[43m]\u001b[49m\n",
      "\u001b[0;31mIndexError\u001b[0m: string index out of range"
     ]
    }
   ],
   "source": [
    "s[6] # index out == 범위를 벗어남"
   ]
  },
  {
   "cell_type": "code",
   "execution_count": null,
   "id": "720404fa-b9cf-4b5e-a2e2-495d0c55d535",
   "metadata": {},
   "outputs": [],
   "source": []
  },
  {
   "attachments": {},
   "cell_type": "markdown",
   "id": "c948ef97",
   "metadata": {},
   "source": [
    "# 85쪽, 86쪽 입니다. 3-5 3-6"
   ]
  },
  {
   "cell_type": "code",
   "execution_count": null,
   "id": "027fbca2",
   "metadata": {},
   "outputs": [
    {
     "name": "stdout",
     "output_type": "stream",
     "text": [
      "Hello W\n",
      "olleH W\n"
     ]
    }
   ],
   "source": [
    "str = input(\"Enter Two World\")\n",
    "pos = str.find(' ')\n",
    "\n",
    "ptrWord = str[:pos]\n",
    "postWord = str[pos + 1]\n",
    "\n",
    "print(ptrWord, postWord)\n",
    "print(ptrWord[:: - 1], postWord[:: - 1])"
   ]
  },
  {
   "cell_type": "code",
   "execution_count": 13,
   "id": "68497b77",
   "metadata": {},
   "outputs": [
    {
     "name": "stdout",
     "output_type": "stream",
     "text": [
      "Enter:  1.0 2.0 3.0 4.0\n",
      "sum: 10.0\n",
      "평균: 2.5\n"
     ]
    }
   ],
   "source": [
    "m, n, x, y = input(\"Enter 4th Num\").split()\n",
    "a, b, c, d = float(m), float(n), float(x), float(y)\n",
    "\n",
    "print(\"Enter: \", a, b, c, d)\n",
    "sum = a + b + c + d\n",
    "\n",
    "print(\"sum: {}\".format(sum))\n",
    "print(\"평균: {}\".format(float(sum) / 4))"
   ]
  },
  {
   "cell_type": "code",
   "execution_count": null,
   "id": "43c93312",
   "metadata": {},
   "outputs": [],
   "source": []
  }
 ],
 "metadata": {
  "kernelspec": {
   "display_name": "Python 3 (ipykernel)",
   "language": "python",
   "name": "python3"
  },
  "language_info": {
   "codemirror_mode": {
    "name": "ipython",
    "version": 3
   },
   "file_extension": ".py",
   "mimetype": "text/x-python",
   "name": "python",
   "nbconvert_exporter": "python",
   "pygments_lexer": "ipython3",
   "version": "3.10.4"
  }
 },
 "nbformat": 4,
 "nbformat_minor": 5
}

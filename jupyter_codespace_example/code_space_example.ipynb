{
 "cells": [
  {
   "cell_type": "code",
   "execution_count": 1,
   "id": "1e3d39b8-7b31-4ae2-bb71-8a45e676bcd1",
   "metadata": {
    "tags": []
   },
   "outputs": [],
   "source": [
    "import site"
   ]
  },
  {
   "cell_type": "code",
   "execution_count": 2,
   "id": "820c9a9d-2a8c-402e-ac58-38f2be3d2df0",
   "metadata": {
    "tags": []
   },
   "outputs": [
    {
     "data": {
      "text/plain": [
       "['/usr/local/python/3.10.4/lib/python3.10/site-packages']"
      ]
     },
     "execution_count": 2,
     "metadata": {},
     "output_type": "execute_result"
    }
   ],
   "source": [
    "site.getsitepackages()"
   ]
  },
  {
   "cell_type": "code",
   "execution_count": 3,
   "id": "9ca8d73f-bf7a-4e92-8d1d-af4339de21fd",
   "metadata": {
    "tags": []
   },
   "outputs": [],
   "source": [
    "s = 'python'"
   ]
  },
  {
   "cell_type": "code",
   "execution_count": 4,
   "id": "1905c30b-6692-45a6-9596-3bbd63b8853d",
   "metadata": {
    "tags": []
   },
   "outputs": [
    {
     "data": {
      "text/plain": [
       "str"
      ]
     },
     "execution_count": 4,
     "metadata": {},
     "output_type": "execute_result"
    }
   ],
   "source": [
    "type(s)"
   ]
  },
  {
   "cell_type": "code",
   "execution_count": 5,
   "id": "8872f148-bf8a-4093-9806-96676e0d6cad",
   "metadata": {
    "tags": []
   },
   "outputs": [
    {
     "data": {
      "text/plain": [
       "'Python'"
      ]
     },
     "execution_count": 5,
     "metadata": {},
     "output_type": "execute_result"
    }
   ],
   "source": [
    "str.capitalize(s) # 첫 글자 대문자로 바꿔주는 str의 내장 함수 임 "
   ]
  },
  {
   "cell_type": "code",
   "execution_count": 6,
   "id": "38714d9b-fab8-4a74-bdd2-faa18e9ff8d8",
   "metadata": {
    "tags": []
   },
   "outputs": [],
   "source": [
    "s = 'python'"
   ]
  },
  {
   "cell_type": "code",
   "execution_count": 7,
   "id": "795b4a44-716a-4ba2-8528-8466112fe431",
   "metadata": {
    "tags": []
   },
   "outputs": [],
   "source": [
    "# s[] 에러가 뜸 Why? 익데스를 써주지 않음"
   ]
  },
  {
   "cell_type": "code",
   "execution_count": 11,
   "id": "3470c7a9-513c-4cf7-ade3-4ccde03b9568",
   "metadata": {
    "tags": []
   },
   "outputs": [
    {
     "data": {
      "text/plain": [
       "'nohtyp'"
      ]
     },
     "execution_count": 11,
     "metadata": {},
     "output_type": "execute_result"
    }
   ],
   "source": [
    "s[:: - 1] # 배열 뒤집기"
   ]
  },
  {
   "cell_type": "code",
   "execution_count": 12,
   "id": "0bc557eb-009e-47af-bdf1-91b958d94fa4",
   "metadata": {
    "tags": []
   },
   "outputs": [
    {
     "ename": "IndexError",
     "evalue": "string index out of range",
     "output_type": "error",
     "traceback": [
      "\u001b[0;31m---------------------------------------------------------------------------\u001b[0m",
      "\u001b[0;31mIndexError\u001b[0m                                Traceback (most recent call last)",
      "Cell \u001b[0;32mIn[12], line 1\u001b[0m\n\u001b[0;32m----> 1\u001b[0m \u001b[43ms\u001b[49m\u001b[43m[\u001b[49m\u001b[38;5;241;43m6\u001b[39;49m\u001b[43m]\u001b[49m\n",
      "\u001b[0;31mIndexError\u001b[0m: string index out of range"
     ]
    }
   ],
   "source": [
    "s[6] # index out == 범위를 벗어남"
   ]
  },
  {
   "cell_type": "code",
   "execution_count": null,
   "id": "720404fa-b9cf-4b5e-a2e2-495d0c55d535",
   "metadata": {},
   "outputs": [],
   "source": []
  }
 ],
 "metadata": {
  "kernelspec": {
   "display_name": "Python 3 (ipykernel)",
   "language": "python",
   "name": "python3"
  },
  "language_info": {
   "codemirror_mode": {
    "name": "ipython",
    "version": 3
   },
   "file_extension": ".py",
   "mimetype": "text/x-python",
   "name": "python",
   "nbconvert_exporter": "python",
   "pygments_lexer": "ipython3",
   "version": "3.10.4"
  }
 },
 "nbformat": 4,
 "nbformat_minor": 5
}
